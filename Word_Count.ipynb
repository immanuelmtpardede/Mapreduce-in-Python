{
  "nbformat": 4,
  "nbformat_minor": 0,
  "metadata": {
    "colab": {
      "provenance": [],
      "mount_file_id": "1sG7YheaD2dmbOEqwIM1TNyHpCJPGLvD5",
      "authorship_tag": "ABX9TyP49PXkyLz4Y/wBWRODnFTK",
      "include_colab_link": true
    },
    "kernelspec": {
      "name": "python3",
      "display_name": "Python 3"
    },
    "language_info": {
      "name": "python"
    }
  },
  "cells": [
    {
      "cell_type": "markdown",
      "metadata": {
        "id": "view-in-github",
        "colab_type": "text"
      },
      "source": [
        "<a href=\"https://colab.research.google.com/github/immanuelmtpardede/Mapreduce-in-Python/blob/main/Word_Count.ipynb\" target=\"_parent\"><img src=\"https://colab.research.google.com/assets/colab-badge.svg\" alt=\"Open In Colab\"/></a>"
      ]
    },
    {
      "cell_type": "code",
      "execution_count": 1,
      "metadata": {
        "id": "wqi0v6Ij04h7"
      },
      "outputs": [],
      "source": [
        "import sys;\n",
        "from itertools import groupby;"
      ]
    },
    {
      "cell_type": "code",
      "source": [
        "def mapfunc(w):\n",
        "    # Let us remove all puncuation and spaces.  \n",
        "    cleanword = ''.join([i for i in w if i.isalpha()])\n",
        "    return [cleanword,1];"
      ],
      "metadata": {
        "id": "vKF-qPTQ1MIk"
      },
      "execution_count": 2,
      "outputs": []
    },
    {
      "cell_type": "code",
      "source": [
        "def reducefunc(key, values):\n",
        "    counts = [x[1] for x in values];\n",
        "    return [key,sum(counts)];"
      ],
      "metadata": {
        "id": "VI0Rhu7Z1Nw1"
      },
      "execution_count": 3,
      "outputs": []
    },
    {
      "cell_type": "code",
      "source": [
        "with open(\"input.txt\") as f:\n",
        "    words=[word for line in f for word in line.split()]"
      ],
      "metadata": {
        "id": "SQ-KPaKG5g9t"
      },
      "execution_count": 13,
      "outputs": []
    },
    {
      "cell_type": "code",
      "source": [
        "map_result = map (mapfunc, words)"
      ],
      "metadata": {
        "id": "-77r2mcU53oZ"
      },
      "execution_count": 14,
      "outputs": []
    },
    {
      "cell_type": "code",
      "source": [
        "map_result_sorted = sorted (map_result, key = lambda x: x[0])"
      ],
      "metadata": {
        "id": "e5f7-mMN6AI5"
      },
      "execution_count": 15,
      "outputs": []
    },
    {
      "cell_type": "code",
      "source": [
        "reduce_result = [];\n",
        "for k, g in groupby(map_result_sorted, key = lambda x: x[0]):\n",
        "    reduce_result.append(reducefunc(k, list(g)))"
      ],
      "metadata": {
        "id": "az55aeZX6CYa"
      },
      "execution_count": 16,
      "outputs": []
    },
    {
      "cell_type": "code",
      "source": [
        "print(reduce_result)"
      ],
      "metadata": {
        "colab": {
          "base_uri": "https://localhost:8080/"
        },
        "id": "iYrMxYst6Eey",
        "outputId": "17cfe049-fb84-4508-84e5-d735a667341e"
      },
      "execution_count": 17,
      "outputs": [
        {
          "output_type": "stream",
          "name": "stdout",
          "text": [
            "[['', 29], ['A', 10], ['ATVs', 1], ['Accustomed', 1], ['After', 1], ['Aircraft', 1], ['Airports', 1], ['All', 2], ['Although', 1], ['An', 1], ['As', 3], ['At', 2], ['Aurora', 1], ['Avgas', 1], ['BY', 1], ['Beechcraft', 1], ['Borealis', 1], ['Brandon', 1], ['Breakfast', 1], ['Broader', 1], ['Bus', 1], ['But', 3], ['By', 1], ['CANADA', 1], ['CBC', 1], ['CONTINUE', 1], ['Cessna', 1], ['Changing', 1], ['Cheques', 1], ['Copyright', 1], ['Credit', 1], ['Cub', 1], ['Dissatisfied', 1], ['Drivein', 1], ['During', 1], ['END', 1], ['Each', 1], ['Entrepreneurs', 1], ['Even', 2], ['FREEWARE', 1], ['Far', 1], ['February', 1], ['Flight', 1], ['Flights', 1], ['Food', 1], ['For', 5], ['Fresh', 1], ['From', 1], ['Fuel', 1], ['Gasoline', 2], ['Generally', 1], ['Hotel', 1], ['House', 1], ['However', 1], ['Howling', 1], ['IS', 2], ['IT', 1], ['If', 5], ['In', 8], ['Is', 2], ['It', 1], ['Its', 2], ['Jim', 2], ['Life', 1], ['Lights', 1], ['Look', 1], ['Lower', 1], ['Lying', 1], ['MEDEVAC', 2], ['Mail', 1], ['Manitoba', 1], ['Many', 3], ['Map', 1], ['Meanwhile', 1], ['Medical', 1], ['Moose', 2], ['More', 2], ['Most', 4], ['Mouse', 1], ['NEED', 1], ['NORTH', 1], ['NOT', 1], ['Nearby', 1], ['New', 1], ['North', 2], ['Northern', 1], ['Of', 1], ['Office', 1], ['On', 3], ['Once', 2], ['Or', 1], ['Other', 3], ['Others', 2], ['Our', 1], ['Owning', 1], ['PROJECT', 1], ['Perhaps', 1], ['Pilots', 1], ['Piper', 1], ['Post', 1], ['Prentice', 2], ['Prospectors', 1], ['Providing', 1], ['Reservations', 1], ['SHAREWARE', 1], ['SUPPORT', 1], ['Screaming', 1], ['Several', 1], ['Should', 1], ['Some', 3], ['Somehow', 1], ['Southerner', 1], ['Spoken', 1], ['Squealing', 1], ['Study', 1], ['THE', 1], ['THIS', 1], ['TO', 1], ['TRIAL', 1], ['TV', 5], ['Taildragger', 1], ['Telephones', 1], ['Temperatures', 1], ['The', 68], ['Their', 1], ['There', 4], ['These', 2], ['They', 8], ['This', 2], ['Thoughts', 1], ['Through', 1], ['To', 4], ['Trailers', 1], ['Travellers', 1], ['USA', 1], ['Unless', 1], ['WE', 1], ['WEST', 1], ['Wagers', 1], ['Walleye', 2], ['Waterfront', 1], ['Waters', 1], ['We', 15], ['What', 1], ['When', 1], ['Whether', 1], ['Why', 1], ['Will', 1], ['Wings', 1], ['Winter', 1], ['Xs', 1], ['YOUR', 1], ['Yes', 1], ['You', 3], ['a', 68], ['able', 1], ['abound', 1], ['above', 1], ['absence', 1], ['access', 1], ['accustomed', 1], ['activities', 2], ['acute', 1], ['adapted', 1], ['added', 1], ['adjust', 1], ['adults', 1], ['advance', 1], ['adventuresome', 1], ['afforded', 1], ['after', 2], ['again', 1], ['against', 1], ['ago', 1], ['aid', 1], ['air', 2], ['aircraft', 11], ['airplane', 1], ['airport', 2], ['airports', 1], ['airstrip', 1], ['all', 8], ['allowed', 1], ['alright', 1], ['also', 2], ['although', 1], ['altitudes', 1], ['always', 1], ['amenities', 2], ['amplified', 1], ['an', 8], ['ancestry', 2], ['and', 101], ['animal', 1], ['announce', 1], ['annually', 1], ['another', 4], ['any', 3], ['apart', 1], ['apparent', 1], ['appears', 1], ['appliances', 2], ['applies', 1], ['approached', 1], ['arctic', 3], ['are', 51], ['areas', 4], ['around', 2], ['arrival', 2], ['arrive', 2], ['arrives', 1], ['arriving', 1], ['as', 12], ['at', 8], ['augers', 1], ['augmented', 1], ['authenticity', 1], ['available', 4], ['average', 1], ['aware', 1], ['away', 4], ['baby', 1], ['back', 2], ['bacon', 1], ['bags', 1], ['bait', 2], ['balky', 1], ['bank', 1], ['basic', 1], ['basis', 2], ['bass', 1], ['bathing', 1], ['battalions', 1], ['batteries', 1], ['bays', 1], ['be', 15], ['bear', 2], ['beauty', 1], ['beaver', 1], ['beavers', 1], ['because', 2], ['become', 1], ['becomes', 2], ['bed', 1], ['been', 3], ['before', 2], ['begin', 2], ['below', 2], ['besides', 1], ['best', 1], ['between', 1], ['bicycles', 1], ['big', 1], ['bigger', 1], ['biologists', 1], ['bird', 2], ['bizjet', 1], ['black', 2], ['blades', 1], ['blossom', 1], ['blowers', 1], ['blowing', 1], ['blowpots', 1], ['blueberries', 2], ['boards', 1], ['boat', 1], ['boats', 3], ['bolt', 1], ['booze', 1], ['border', 1], ['born', 1], ['boss', 1], ['botanists', 1], ['branch', 1], ['bread', 1], ['break', 1], ['breaking', 3], ['breaks', 1], ['breed', 1], ['brilliant', 1], ['brings', 1], ['brought', 1], ['brush', 1], ['bucktail', 1], ['build', 1], ['building', 1], ['built', 1], ['bull', 1], ['bundle', 1], ['burbot', 1], ['bus', 3], ['bush', 3], ['bushpilot', 1], ['businesses', 1], ['businesss', 1], ['busses', 1], ['busy', 1], ['but', 4], ['buy', 1], ['buzz', 1], ['buzzes', 1], ['buzzstingslap', 1], ['by', 19], ['cabin', 3], ['cabins', 1], ['cable', 1], ['cackling', 1], ['call', 1], ['camaraderie', 1], ['camp', 1], ['campgrounds', 1], ['camping', 1], ['camps', 1], ['can', 6], ['cannot', 1], ['capable', 1], ['car', 4], ['care', 1], ['carefully', 1], ['carried', 2], ['carry', 3], ['case', 2], ['cases', 1], ['cash', 1], ['catch', 1], ['catfish', 1], ['census', 1], ['center', 3], ['centered', 1], ['centers', 1], ['chains', 1], ['chairs', 1], ['challenge', 1], ['chance', 1], ['change', 3], ['channels', 1], ['charter', 1], ['check', 1], ['children', 1], ['childrens', 1], ['chinups', 1], ['choices', 1], ['chores', 1], ['circle', 1], ['city', 4], ['civilization', 3], ['clatter', 1], ['clear', 1], ['climbs', 1], ['closer', 1], ['clothing', 2], ['cluttering', 1], ['coax', 1], ['coffee', 3], ['cold', 4], ['colder', 1], ['coldsoaked', 1], ['colleagues', 1], ['collected', 1], ['colors', 1], ['comfort', 1], ['commercial', 1], ['commodities', 1], ['communities', 4], ['community', 2], ['companies', 1], ['compare', 1], ['comparison', 1], ['condition', 1], ['conditions', 3], ['congealed', 1], ['conservationists', 1], ['considerably', 1], ['constant', 1], ['construction', 2], ['contact', 2], ['continues', 1], ['contrasted', 1], ['contributed', 1], ['cooled', 1], ['coping', 1], ['corporations', 1], ['cost', 2], ['costs', 1], ['cottages', 2], ['could', 1], ['country', 1], ['course', 3], ['covered', 2], ['coyotes', 1], ['crammed', 1], ['crashing', 1], ['crazy', 1], ['croak', 1], ['cross', 1], ['cry', 2], ['crystals', 1], ['customer', 1], ['customers', 1], ['cycle', 1], ['daily', 2], ['dance', 1], ['dancing', 1], ['danger', 2], ['date', 1], ['day', 15], ['dazzling', 1], ['dealer', 1], ['death', 1], ['decided', 1], ['deciduous', 1], ['deep', 1], ['definitely', 1], ['degree', 1], ['degrees', 4], ['delicious', 1], ['deliver', 1], ['delivered', 1], ['delivery', 3], ['dependable', 1], ['dependant', 1], ['deposit', 1], ['develop', 1], ['diesel', 1], ['differ', 1], ['different', 2], ['differential', 1], ['difficult', 2], ['diminishing', 1], ['dinner', 1], ['discuss', 1], ['display', 1], ['distance', 1], ['distant', 1], ['distinct', 1], ['division', 1], ['do', 5], ['docks', 1], ['does', 1], ['doesnt', 1], ['dog', 3], ['dogs', 1], ['doing', 1], ['done', 1], ['down', 5], ['drill', 1], ['drive', 2], ['driveway', 1], ['drumming', 1], ['ducks', 3], ['during', 3], ['dwellers', 2], ['each', 3], ['eagles', 1], ['ear', 1], ['early', 1], ['east', 1], ['eat', 1], ['eating', 1], ['efficiency', 1], ['effort', 2], ['eggs', 2], ['either', 1], ['electric', 1], ['element', 1], ['elsewhere', 1], ['employment', 2], ['end', 1], ['endure', 1], ['engine', 2], ['engines', 4], ['enjoy', 2], ['enjoyed', 3], ['ensure', 2], ['entertainment', 1], ['entomologists', 1], ['equipment', 5], ['equipped', 2], ['escape', 1], ['especially', 2], ['evening', 2], ['event', 1], ['ever', 1], ['evergreen', 1], ['every', 1], ['example', 1], ['exceeding', 1], ['exception', 1], ['excitement', 1], ['exist', 1], ['exists', 1], ['expect', 1], ['expensive', 1], ['experience', 2], ['experienced', 1], ['extended', 1], ['extent', 1], ['extreme', 1], ['eye', 1], ['face', 1], ['faces', 1], ['facilities', 2], ['facing', 1], ['failed', 1], ['fall', 1], ['family', 2], ['fancy', 1], ['fantastic', 1], ['fares', 1], ['farther', 2], ['fast', 1], ['favorite', 3], ['feeding', 2], ['feet', 1], ['festivals', 1], ['few', 4], ['fiftieth', 1], ['fight', 1], ['fill', 1], ['fire', 2], ['firing', 1], ['first', 2], ['firsttimers', 1], ['fish', 7], ['fishermen', 3], ['fishing', 9], ['five', 2], ['flesh', 1], ['flew', 1], ['flies', 3], ['flight', 4], ['flights', 2], ['float', 1], ['floats', 1], ['flock', 1], ['fly', 3], ['flying', 3], ['following', 1], ['food', 6], ['foods', 1], ['foolhardy', 1], ['foot', 1], ['for', 18], ['forest', 1], ['forests', 1], ['forgotten', 1], ['found', 1], ['four', 2], ['free', 1], ['freedom', 1], ['freeze', 1], ['freezing', 1], ['freight', 2], ['fresh', 5], ['friends', 2], ['friendship', 1], ['frogs', 1], ['from', 13], ['frost', 1], ['frozen', 1], ['frypan', 1], ['fuel', 2], ['fueled', 1], ['fueling', 1], ['full', 1], ['fumes', 1], ['furs', 1], ['gallon', 1], ['garden', 1], ['gas', 3], ['gasoline', 2], ['geese', 2], ['geologists', 1], ['get', 3], ['gets', 1], ['giant', 1], ['give', 1], ['glowing', 1], ['go', 1], ['good', 1], ['goods', 1], ['gourmet', 1], ['government', 2], ['grease', 1], ['great', 3], ['green', 1], ['grip', 1], ['ground', 2], ['grounds', 1], ['grouse', 1], ['grumble', 1], ['had', 4], ['hammer', 1], ['hand', 1], ['happen', 1], ['happy', 1], ['has', 4], ['hatched', 1], ['hauling', 1], ['have', 16], ['having', 1], ['hawks', 1], ['he', 2], ['head', 1], ['hear', 4], ['heard', 2], ['heat', 1], ['heating', 1], ['heaven', 1], ['heavens', 1], ['heavy', 2], ['held', 1], ['heralded', 1], ['here', 2], ['high', 2], ['higher', 2], ['highs', 1], ['highway', 1], ['his', 5], ['holes', 2], ['home', 6], ['homes', 2], ['hooks', 1], ['hordes', 1], ['hotels', 1], ['hours', 3], ['house', 1], ['huddled', 1], ['hues', 1], ['hum', 1], ['hundreds', 3], ['hunter', 1], ['hunters', 1], ['hunting', 7], ['hydroelectric', 1], ['ice', 9], ['icefishing', 1], ['if', 6], ['ill', 1], ['illness', 1], ['imaginary', 1], ['implications', 1], ['in', 59], ['incessant', 1], ['include', 1], ['included', 1], ['incredibly', 1], ['independently', 1], ['indescribable', 1], ['indicated', 1], ['ingress', 1], ['injured', 1], ['injury', 1], ['insect', 1], ['insects', 1], ['intermittent', 1], ['international', 1], ['intervals', 1], ['into', 3], ['involved', 1], ['inwardly', 1], ['is', 34], ['it', 12], ['its', 3], ['jangle', 1], ['jigging', 1], ['job', 1], ['jobs', 1], ['jostle', 1], ['just', 1], ['keep', 1], ['kept', 2], ['kids', 1], ['kind', 1], ['know', 1], ['labelled', 1], ['lack', 2], ['lake', 7], ['lakes', 7], ['land', 2], ['landing', 2], ['landscaping', 1], ['large', 6], ['larger', 1], ['largest', 1], ['last', 1], ['laundry', 1], ['lawn', 2], ['lawnmowers', 1], ['leadheaded', 1], ['learn', 1], ['learned', 1], ['leaving', 1], ['lee', 1], ['left', 4], ['legion', 1], ['lets', 1], ['life', 13], ['lifted', 1], ['like', 2], ['line', 2], ['lines', 1], ['little', 1], ['live', 4], ['lived', 1], ['lives', 3], ['living', 2], ['local', 4], ['locate', 1], ['located', 1], ['location', 1], ['logging', 2], ['logs', 1], ['lone', 1], ['looms', 1], ['loon', 3], ['lore', 1], ['lost', 1], ['lots', 1], ['lower', 1], ['lows', 1], ['lumps', 1], ['lunch', 1], ['lures', 1], ['machine', 1], ['made', 3], ['magic', 1], ['mail', 2], ['maintaining', 1], ['major', 2], ['make', 1], ['malls', 1], ['man', 3], ['mandatory', 1], ['many', 9], ['map', 1], ['maps', 1], ['matter', 1], ['maximum', 1], ['may', 10], ['measure', 1], ['meat', 1], ['mechanisms', 1], ['medical', 1], ['meet', 1], ['merchants', 1], ['mercury', 1], ['metal', 1], ['metropolitan', 1], ['midpoint', 1], ['midsummer', 1], ['might', 1], ['miles', 6], ['milk', 1], ['mind', 1], ['mingling', 1], ['minnows', 1], ['minus', 1], ['miss', 3], ['mode', 1], ['modern', 1], ['monthly', 1], ['months', 2], ['moose', 4], ['moosemeat', 1], ['more', 8], ['morning', 2], ['mosquito', 1], ['mosquitoes', 2], ['most', 6], ['motorcycles', 1], ['motorhomes', 1], ['motors', 3], ['move', 4], ['moved', 1], ['moving', 1], ['mowers', 1], ['mumbled', 1], ['murderous', 1], ['music', 1], ['muskrat', 1], ['must', 7], ['myself', 1], ['nationalities', 1], ['natives', 2], ['natural', 2], ['navigation', 2], ['near', 1], ['nearby', 2], ['nearly', 1], ['neighbors', 5], ['net', 1], ['netting', 1], ['network', 1], ['never', 3], ['new', 5], ['newspapers', 2], ['next', 2], ['night', 3], ['no', 3], ['noises', 1], ['nonexistent', 1], ['normal', 1], ['normally', 1], ['north', 17], ['northern', 12], ['northward', 1], ['not', 7], ['now', 1], ['number', 1], ['obtain', 1], ['occasional', 1], ['occupied', 1], ['of', 121], ['off', 2], ['offer', 2], ['often', 1], ['oil', 3], ['old', 1], ['on', 26], ['once', 1], ['one', 5], ['ones', 1], ['only', 3], ['onto', 2], ['opening', 1], ['operate', 1], ['operator', 1], ['opportunity', 1], ['or', 30], ['ordeal', 1], ['order', 2], ['other', 2], ['others', 1], ['our', 9], ['out', 3], ['outdoor', 1], ['outdoors', 1], ['over', 1], ['own', 3], ['owned', 1], ['owners', 2], ['pancakes', 1], ['parents', 1], ['parking', 1], ['parts', 1], ['passed', 1], ['passengers', 2], ['passing', 2], ['patrols', 2], ['paved', 2], ['pay', 2], ['peacefully', 1], ['penetrated', 1], ['people', 3], ['per', 3], ['perch', 1], ['period', 2], ['perishable', 1], ['permit', 1], ['person', 2], ['phrase', 1], ['pick', 2], ['pike', 2], ['piles', 1], ['pilot', 4], ['pilots', 4], ['pin', 1], ['pipelines', 1], ['pitch', 1], ['place', 1], ['places', 1], ['placid', 1], ['plane', 1], ['planned', 1], ['plans', 1], ['play', 1], ['pleasant', 1], ['pleasure', 1], ['plentiful', 1], ['poets', 1], ['poles', 1], ['police', 1], ['ponds', 1], ['popular', 1], ['possibly', 1], ['powered', 1], ['preheat', 1], ['preheating', 2], ['prepared', 1], ['presence', 1], ['present', 2], ['presents', 1], ['prevent', 1], ['price', 1], ['prices', 4], ['prime', 1], ['prior', 1], ['private', 2], ['privately', 1], ['problem', 3], ['problems', 3], ['procedure', 1], ['produce', 1], ['product', 1], ['programming', 1], ['propane', 1], ['propeller', 2], ['provide', 2], ['provincial', 1], ['pussy', 1], ['quackery', 1], ['quantities', 1], ['quiet', 2], ['rabbit', 1], ['racing', 1], ['radio', 2], ['rail', 2], ['railroad', 1], ['railways', 1], ['rakes', 1], ['ran', 1], ['raspberries', 1], ['rather', 2], ['ravens', 1], ['reach', 1], ['reading', 1], ['realities', 1], ['really', 1], ['reasons', 1], ['recede', 1], ['recent', 1], ['record', 2], ['recreational', 1], ['reefs', 1], ['reek', 1], ['reflect', 1], ['refueling', 1], ['regular', 3], ['remaining', 1], ['remote', 3], ['removed', 1], ['repairman', 1], ['repairs', 2], ['repeats', 1], ['replaced', 1], ['require', 2], ['requirement', 1], ['requires', 2], ['reserves', 2], ['residents', 1], ['rest', 1], ['restart', 1], ['restaurants', 2], ['restock', 1], ['restricted', 1], ['retreats', 1], ['return', 2], ['returned', 1], ['ride', 1], ['rifle', 1], ['rigors', 2], ['rising', 1], ['rival', 1], ['river', 1], ['rivers', 2], ['road', 4], ['roads', 5], ['rocks', 1], ['role', 1], ['ropes', 1], ['roughing', 1], ['round', 1], ['rule', 1], ['run', 1], ['running', 1], ['rustling', 1], ['rut', 2], ['s', 1], ['same', 3], ['sausages', 1], ['scene', 1], ['scheduled', 1], ['seaplane', 1], ['seaplanes', 1], ['season', 1], ['seasonal', 2], ['seasons', 4], ['secluded', 1], ['secure', 1], ['securely', 1], ['securing', 1], ['see', 2], ['seems', 1], ['seldom', 1], ['send', 1], ['senses', 1], ['serious', 1], ['seriously', 1], ['service', 3], ['services', 5], ['servicing', 1], ['set', 2], ['setting', 1], ['settlements', 3], ['seven', 1], ['severely', 1], ['shack', 1], ['shacks', 1], ['shape', 1], ['sharp', 1], ['sharpened', 1], ['shipment', 1], ['shipped', 1], ['shopping', 2], ['shore', 4], ['shoreline', 1], ['short', 3], ['shovels', 1], ['shown', 1], ['side', 3], ['sights', 1], ['signature', 1], ['signs', 1], ['similar', 1], ['sirens', 1], ['sit', 1], ['sits', 1], ['situation', 2], ['sizzling', 1], ['skidoo', 1], ['skiequipped', 1], ['skiing', 1], ['skis', 3], ['sky', 1], ['sleep', 1], ['smack', 1], ['small', 4], ['smell', 1], ['smells', 1], ['smog', 1], ['smoke', 1], ['smoked', 1], ['snaps', 1], ['snelled', 1], ['snow', 3], ['snowmachine', 1], ['snowmobile', 2], ['snowmobiles', 1], ['snowmobiling', 1], ['so', 4], ['sold', 1], ['solid', 1], ['some', 6], ['someone', 1], ['sometimes', 1], ['song', 1], ['songs', 2], ['souls', 1], ['sound', 1], ['sounds', 1], ['south', 4], ['southern', 5], ['space', 1], ['special', 2], ['spoons', 1], ['sport', 2], ['sports', 1], ['sportsmen', 1], ['spot', 1], ['spots', 1], ['spring', 2], ['spruce', 1], ['standards', 1], ['stars', 1], ['start', 3], ['started', 1], ['starting', 1], ['station', 2], ['stations', 1], ['steaks', 1], ['still', 1], ['stock', 1], ['stop', 1], ['stored', 2], ['stores', 1], ['stories', 1], ['stove', 1], ['stranger', 1], ['strawberries', 1], ['streams', 1], ['streets', 2], ['strip', 1], ['stroll', 1], ['struck', 1], ['stuck', 1], ['subject', 1], ['subsequent', 1], ['such', 1], ['suckerbelly', 1], ['suitable', 1], ['suitcases', 1], ['suits', 2], ['summer', 4], ['super', 1], ['superb', 1], ['supermarkets', 1], ['supplies', 1], ['surfaces', 1], ['surrounded', 2], ['surveyors', 1], ['systems', 1], ['tail', 1], ['take', 3], ['taken', 1], ['takes', 1], ['taking', 1], ['tales', 2], ['tanks', 1], ['taste', 2], ['taxi', 3], ['teams', 1], ['tearing', 1], ['teeming', 1], ['telephone', 2], ['television', 1], ['temperatures', 1], ['tent', 2], ['territory', 1], ['than', 5], ['that', 10], ['the', 175], ['theaters', 1], ['their', 7], ['them', 4], ['then', 4], ['there', 3], ['these', 4], ['they', 7], ['thick', 4], ['thin', 1], ['thing', 1], ['things', 1], ['this', 3], ['those', 3], ['thought', 1], ['thousands', 1], ['threatening', 1], ['threateningly', 1], ['through', 2], ['tied', 2], ['time', 2], ['times', 1], ['tires', 1], ['to', 78], ['toast', 1], ['told', 1], ['too', 3], ['took', 1], ['tools', 1], ['top', 1], ['touch', 1], ['tourists', 2], ['tow', 1], ['towed', 1], ['town', 3], ['townspeople', 1], ['toys', 1], ['tracks', 1], ['traffic', 1], ['trails', 1], ['transactions', 1], ['transfer', 1], ['transferred', 1], ['transients', 1], ['transmission', 1], ['transport', 3], ['transportation', 1], ['traplines', 1], ['trappers', 1], ['trapping', 1], ['travel', 3], ['travellers', 2], ['travels', 1], ['tree', 1], ['trees', 2], ['trip', 5], ['trout', 4], ['truck', 1], ['trucks', 1], ['true', 1], ['tullibee', 1], ['tuned', 1], ['turned', 1], ['twig', 1], ['types', 2], ['typewriters', 1], ['undisturbed', 1], ['unknown', 1], ['unnerving', 1], ['until', 1], ['up', 9], ['upward', 1], ['urban', 2], ['use', 3], ['useless', 1], ['usually', 3], ['vans', 1], ['varied', 1], ['vehicles', 3], ['venturing', 1], ['veterinarian', 1], ['vie', 1], ['village', 1], ['visit', 1], ['visualize', 1], ['voice', 2], ['wail', 2], ['wakes', 1], ['walk', 1], ['walleye', 1], ['wanted', 2], ['warfare', 1], ['warmth', 1], ['warning', 1], ['was', 4], ['water', 3], ['waters', 1], ['waves', 1], ['way', 1], ['we', 6], ['weapon', 1], ['wear', 1], ['wears', 1], ['weather', 1], ['weekend', 1], ['weekly', 1], ['weeks', 1], ['well', 2], ['were', 7], ['west', 1], ['whatever', 1], ['wheel', 1], ['when', 5], ['where', 1], ['whether', 2], ['which', 3], ['while', 1], ['whistle', 1], ['whitefish', 1], ['whiteouts', 1], ['whites', 1], ['wild', 2], ['wildlife', 2], ['will', 3], ['willows', 1], ['wind', 1], ['windflowers', 1], ['wings', 1], ['winter', 9], ['with', 21], ['within', 1], ['without', 1], ['wolves', 1], ['wonders', 1], ['wood', 1], ['woodburning', 1], ['work', 2], ['working', 1], ['would', 1], ['writer', 1], ['writers', 1], ['year', 4], ['years', 4], ['yet', 1], ['you', 18], ['your', 6], ['zero', 2]]\n"
          ]
        }
      ]
    }
  ]
}